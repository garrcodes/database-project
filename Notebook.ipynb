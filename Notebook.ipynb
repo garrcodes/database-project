{
 "cells": [
  {
   "cell_type": "code",
   "execution_count": 1,
   "id": "20afa986-f4ea-4373-9f4a-884e9d2d2409",
   "metadata": {},
   "outputs": [
    {
     "name": "stdout",
     "output_type": "stream",
     "text": [
      "Recommended Movies:\n",
      "Boys Life 2 (1997) (Similarity Score: 25.0\n",
      "Gentlemen of Fortune (Dzhentlmeny udachi) (1972) (Similarity Score: 25.0\n",
      "Best Offer, The (Migliore offerta, La) (2013) (Similarity Score: 25.0\n",
      "I'm the One That I Want (2000) (Similarity Score: 25.0\n",
      "Caught (1996) (Similarity Score: 25.0\n"
     ]
    }
   ],
   "source": [
    "import sqlite3\n",
    "import pandas as pd\n",
    "\n",
    "# Load data from CSV files\n",
    "ratings_df = pd.read_csv('ratings.csv')\n",
    "movies_df = pd.read_csv('movies.csv')\n",
    "\n",
    "# Create SQLite connection and cursor\n",
    "conn = sqlite3.connect(':memory:')  # Use in-memory database for demonstration, you can use a file-based database for persistence\n",
    "cur = conn.cursor()\n",
    "\n",
    "# Create tables and insert data\n",
    "cur.execute('''CREATE TABLE ratings (\n",
    "                user_id INTEGER,\n",
    "                movie_id INTEGER,\n",
    "                rating REAL,\n",
    "                timestamp INTEGER\n",
    "                )''')\n",
    "\n",
    "ratings_df.to_sql('ratings', conn, if_exists='append', index=False)\n",
    "\n",
    "cur.execute('''CREATE TABLE movies (\n",
    "                movie_id INTEGER,\n",
    "                title TEXT,\n",
    "                genres TEXT\n",
    "                )''')\n",
    "\n",
    "movies_df.to_sql('movies', conn, if_exists='append', index=False)\n",
    "\n",
    "# Commit changes\n",
    "conn.commit()\n",
    "\n",
    "def calculate_similarity(movie_id1, movie_id2):\n",
    "    cur.execute('''SELECT AVG(r1.rating), AVG(r2.rating)\n",
    "                   FROM ratings r1\n",
    "                   JOIN ratings r2 ON r1.user_id = r2.user_id\n",
    "                   WHERE r1.movie_id = ? AND r2.movie_id = ?''', (movie_id1, movie_id2))\n",
    "    row = cur.fetchone()\n",
    "    if row[0] is None or row[1] is None:\n",
    "        return 0, 0\n",
    "    return row[0], row[1]\n",
    "\n",
    "\n",
    "def recommend_movies(movie_id, num_recommendations=5):\n",
    "    cur.execute('''SELECT DISTINCT movie_id\n",
    "                   FROM ratings\n",
    "                   WHERE movie_id != ?''', (movie_id,))\n",
    "    all_movies = cur.fetchall()\n",
    "    \n",
    "    similarity_scores = []\n",
    "    for other_movie in all_movies:\n",
    "        similarity = calculate_similarity(movie_id, other_movie[0])\n",
    "        similarity_scores.append((other_movie[0], similarity[0] * similarity[1]))\n",
    "    \n",
    "    similarity_scores.sort(key=lambda x: x[1], reverse=True)\n",
    "    recommendations = similarity_scores[:num_recommendations]\n",
    "    \n",
    "    recommended_movies = []\n",
    "    for rec in recommendations:\n",
    "        cur.execute('''SELECT title FROM movies WHERE movie_id = ?''', (rec[0],))\n",
    "        movie_title = cur.fetchone()[0]\n",
    "        recommended_movies.append((movie_title, rec[1]))\n",
    "    \n",
    "    return recommended_movies\n",
    "\n",
    "# Example: recommend movies similar to movie with id=1\n",
    "recommendations = recommend_movies(1)\n",
    "print(\"Recommended Movies:\")\n",
    "for movie, score in recommendations:\n",
    "    print(f\"{movie} (Similarity Score: {score}\")\n",
    "\n",
    "# Close connection\n",
    "conn.close()\n"
   ]
  },
  {
   "cell_type": "code",
   "execution_count": null,
   "id": "bf384874-8c46-4e42-aabf-4aa63c6d4fe0",
   "metadata": {},
   "outputs": [],
   "source": []
  }
 ],
 "metadata": {
  "kernelspec": {
   "display_name": "Python 3 (ipykernel)",
   "language": "python",
   "name": "python3"
  },
  "language_info": {
   "codemirror_mode": {
    "name": "ipython",
    "version": 3
   },
   "file_extension": ".py",
   "mimetype": "text/x-python",
   "name": "python",
   "nbconvert_exporter": "python",
   "pygments_lexer": "ipython3",
   "version": "3.12.3"
  }
 },
 "nbformat": 4,
 "nbformat_minor": 5
}
